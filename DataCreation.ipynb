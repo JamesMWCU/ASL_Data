{
 "cells": [
  {
   "cell_type": "code",
   "execution_count": 11,
   "id": "02f74ed3",
   "metadata": {
    "ExecuteTime": {
     "end_time": "2024-03-05T20:08:14.062931300Z",
     "start_time": "2024-03-05T20:08:14.039297400Z"
    }
   },
   "outputs": [],
   "source": [
    "import cv2\n",
    "import numpy as np\n",
    "import os\n",
    "from matplotlib import pyplot as plt\n",
    "import time\n",
    "import mediapipe as mp\n",
    "from time import *\n",
    "import os \n",
    "import pickle\n",
    "import pandas as pd"
   ]
  },
  {
   "cell_type": "code",
   "execution_count": 12,
   "id": "b1c40a1d",
   "metadata": {
    "ExecuteTime": {
     "end_time": "2024-03-05T20:08:16.261686100Z",
     "start_time": "2024-03-05T20:08:16.260347200Z"
    }
   },
   "outputs": [],
   "source": [
    "def mediapipe_detection(image, model):\n",
    "    image = cv2.cvtColor(image, cv2.COLOR_BGR2RGB)\n",
    "    image.flags.writeable = False  # image is unwritable\n",
    "    results = model.process(image)  # make prediction\n",
    "    image.flags.writeable = True\n",
    "    image = cv2.cvtColor(image, cv2.COLOR_RGB2BGR)\n",
    "    return image, results\n",
    "\n",
    "\n",
    "def draw_landmarks(image, results):\n",
    "    mp_drawing.draw_landmarks(image, results.face_landmarks, mp_holistic.FACEMESH_TESSELATION)\n",
    "    mp_drawing.draw_landmarks(image, results.left_hand_landmarks, mp_holistic.HAND_CONNECTIONS)\n",
    "    mp_drawing.draw_landmarks(image, results.right_hand_landmarks, mp_holistic.HAND_CONNECTIONS)"
   ]
  },
  {
   "cell_type": "code",
   "execution_count": 3,
   "id": "e2d70ee2",
   "metadata": {
    "ExecuteTime": {
     "end_time": "2024-03-05T19:01:11.032068900Z",
     "start_time": "2024-03-05T18:59:43.350224100Z"
    }
   },
   "outputs": [
    {
     "name": "stdout",
     "output_type": "stream",
     "text": [
      "D:\\Documents\\Research\\ASL_2024\\data\\DataCreation\\[TEST] Collected\n"
     ]
    }
   ],
   "source": [
    "path = \"\"\n",
    "print(path)\n",
    "frames = []\n",
    "# run all directories in data\n",
    "for element in os.listdir(path):\n",
    "# run for all files in each subdirectory in data\n",
    "    for file in os.listdir(os.path.join(path,element)):\n",
    "        # don't change this\n",
    "        mp_holistic = mp.solutions.holistic #holistic model\n",
    "        mp_drawing = mp.solutions.drawing_utils #drawing utility\n",
    "        cap = cv2.VideoCapture(os.path.join(path,element,file))\n",
    "        \n",
    "        with mp_holistic.Holistic(min_detection_confidence = 0.5, min_tracking_confidence = 0.5) as holistic:\n",
    "            while cap.isOpened():\n",
    "                ref, frame = cap.read()\n",
    "                if ref is False:\n",
    "                    break\n",
    "            # Make Detections\n",
    "                image, results = mediapipe_detection(frame, holistic)\n",
    "                rh = np.array([[res.x, res.y, res.z] for res in\n",
    "                            results.right_hand_landmarks.landmark]) if results.right_hand_landmarks else np.full([21, 3], 0)\n",
    "                lh = np.array([[res.x, res.y, res.z] for res in\n",
    "                            results.left_hand_landmarks.landmark]) if results.left_hand_landmarks else np.full([21, 3], 0)\n",
    "                face = np.array([[res.x, res.y, res.z] for res in\n",
    "                                results.face_landmarks.landmark]) if results.face_landmarks else np.full([468,3], 0)\n",
    "                pose = np.array([[res.x, res.y, res.z] for res in\n",
    "                                results.pose_landmarks.landmark]) if results.pose_landmarks else np.full([33,4], 0)\n",
    "                # Draw Landmarks\n",
    "                \n",
    "                # Put all the landmarks into a 1d numpy array with the xyz coordinates for face, pose, rh and lh\n",
    "                landmarks_split = [rh, lh, face, pose]\n",
    "                frames.append(landmarks_split)\n",
    "            \n",
    "                draw_landmarks(image, results)\n",
    "                \n",
    "                cv2.imshow(\"OpenCV Capture\", image)\n",
    "                if cv2.waitKey(10) & 0xFF == ord('q'):\n",
    "                    break\n",
    "                    \n",
    "        cap.release()\n",
    "        cv2.destroyAllWindows()\n",
    "\n",
    "    np.save(f\"{os.path.basename(element)}.npy\", np.array(frames, dtype=object), allow_pickle=True)\n",
    "    "
   ]
  },
  {
   "cell_type": "code",
   "execution_count": 18,
   "outputs": [],
   "source": [
    "path = \"./Numpy_Files\"\n",
    "for element in os.listdir(path):\n",
    "    for file in os.listdir(os.path.join(path,element)):\n",
    "        np.load(os.path.join(path,element,file), allow_pickle=True)\n"
   ],
   "metadata": {
    "collapsed": false,
    "ExecuteTime": {
     "end_time": "2024-03-05T20:14:39.978055800Z",
     "start_time": "2024-03-05T20:14:39.912009900Z"
    }
   },
   "id": "824fbbcca76e6668"
  },
  {
   "cell_type": "code",
   "execution_count": 19,
   "outputs": [
    {
     "ename": "FileNotFoundError",
     "evalue": "[Errno 2] No such file or directory: 'above1.npy'",
     "output_type": "error",
     "traceback": [
      "\u001B[1;31m---------------------------------------------------------------------------\u001B[0m",
      "\u001B[1;31mFileNotFoundError\u001B[0m                         Traceback (most recent call last)",
      "Cell \u001B[1;32mIn[19], line 1\u001B[0m\n\u001B[1;32m----> 1\u001B[0m np\u001B[38;5;241m.\u001B[39mload(\u001B[38;5;124m\"\u001B[39m\u001B[38;5;124mabove1.npy\u001B[39m\u001B[38;5;124m\"\u001B[39m)\n",
      "File \u001B[1;32m~\\anaconda3\\envs\\ASL\\Lib\\site-packages\\numpy\\lib\\npyio.py:427\u001B[0m, in \u001B[0;36mload\u001B[1;34m(file, mmap_mode, allow_pickle, fix_imports, encoding, max_header_size)\u001B[0m\n\u001B[0;32m    425\u001B[0m     own_fid \u001B[38;5;241m=\u001B[39m \u001B[38;5;28;01mFalse\u001B[39;00m\n\u001B[0;32m    426\u001B[0m \u001B[38;5;28;01melse\u001B[39;00m:\n\u001B[1;32m--> 427\u001B[0m     fid \u001B[38;5;241m=\u001B[39m stack\u001B[38;5;241m.\u001B[39menter_context(\u001B[38;5;28mopen\u001B[39m(os_fspath(file), \u001B[38;5;124m\"\u001B[39m\u001B[38;5;124mrb\u001B[39m\u001B[38;5;124m\"\u001B[39m))\n\u001B[0;32m    428\u001B[0m     own_fid \u001B[38;5;241m=\u001B[39m \u001B[38;5;28;01mTrue\u001B[39;00m\n\u001B[0;32m    430\u001B[0m \u001B[38;5;66;03m# Code to distinguish from NumPy binary files and pickles.\u001B[39;00m\n",
      "\u001B[1;31mFileNotFoundError\u001B[0m: [Errno 2] No such file or directory: 'above1.npy'"
     ]
    }
   ],
   "source": [
    "np.load(\"above1.npy\")"
   ],
   "metadata": {
    "collapsed": false,
    "ExecuteTime": {
     "end_time": "2024-03-05T20:15:07.972812900Z",
     "start_time": "2024-03-05T20:15:07.920302700Z"
    }
   },
   "id": "8c9da9b3192b07c3"
  },
  {
   "cell_type": "code",
   "execution_count": null,
   "outputs": [],
   "source": [],
   "metadata": {
    "collapsed": false
   },
   "id": "6288e2c591b4e614"
  }
 ],
 "metadata": {
  "kernelspec": {
   "display_name": "Python 3 (ipykernel)",
   "language": "python",
   "name": "python3"
  },
  "language_info": {
   "codemirror_mode": {
    "name": "ipython",
    "version": 3
   },
   "file_extension": ".py",
   "mimetype": "text/x-python",
   "name": "python",
   "nbconvert_exporter": "python",
   "pygments_lexer": "ipython3",
   "version": "3.10.12"
  }
 },
 "nbformat": 4,
 "nbformat_minor": 5
}
