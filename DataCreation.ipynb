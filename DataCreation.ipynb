{
 "cells": [
  {
   "cell_type": "markdown",
   "source": [
    "## 1. Creating Frame Tensor Data\n",
    "### 1.1 Imports"
   ],
   "metadata": {
    "collapsed": false
   },
   "id": "ec17aa9f29fdd3a3"
  },
  {
   "cell_type": "code",
   "execution_count": 1,
   "id": "02f74ed3",
   "metadata": {
    "ExecuteTime": {
     "end_time": "2024-03-14T13:50:19.680454200Z",
     "start_time": "2024-03-14T13:50:10.218124600Z"
    }
   },
   "outputs": [
    {
     "name": "stdout",
     "output_type": "stream",
     "text": [
      "WARNING:tensorflow:From C:\\Users\\thexb\\anaconda3\\envs\\ASL\\Lib\\site-packages\\keras\\src\\losses.py:2976: The name tf.losses.sparse_softmax_cross_entropy is deprecated. Please use tf.compat.v1.losses.sparse_softmax_cross_entropy instead.\n"
     ]
    }
   ],
   "source": [
    "import cv2\n",
    "import numpy as np\n",
    "import os\n",
    "from matplotlib import pyplot as plt\n",
    "import time\n",
    "import mediapipe as mp\n",
    "from time import *\n",
    "import os \n",
    "import pickle\n",
    "import pandas as pd"
   ]
  },
  {
   "cell_type": "markdown",
   "source": [
    "### 1.2 MediaPipe Landmarks"
   ],
   "metadata": {
    "collapsed": false
   },
   "id": "183938e859edfd4c"
  },
  {
   "cell_type": "code",
   "execution_count": 2,
   "id": "b1c40a1d",
   "metadata": {
    "ExecuteTime": {
     "end_time": "2024-03-14T13:50:29.606498400Z",
     "start_time": "2024-03-14T13:50:29.590731800Z"
    }
   },
   "outputs": [],
   "source": [
    "def mediapipe_detection(image, model):\n",
    "    image = cv2.cvtColor(image, cv2.COLOR_BGR2RGB)\n",
    "    image.flags.writeable = False  # image is unwritable\n",
    "    results = model.process(image)  # make prediction\n",
    "    image.flags.writeable = True\n",
    "    image = cv2.cvtColor(image, cv2.COLOR_RGB2BGR)\n",
    "    return image, results\n",
    "\n",
    "\n",
    "def draw_landmarks(image, results):\n",
    "    mp_drawing.draw_landmarks(image, results.face_landmarks, mp_holistic.FACEMESH_TESSELATION)\n",
    "    mp_drawing.draw_landmarks(image, results.left_hand_landmarks, mp_holistic.HAND_CONNECTIONS)\n",
    "    mp_drawing.draw_landmarks(image, results.right_hand_landmarks, mp_holistic.HAND_CONNECTIONS)"
   ]
  },
  {
   "cell_type": "markdown",
   "source": [
    "### 1.3 Numpy File Creation/Storage\n",
    "#### Note: This assumes that the photos are pre-separated into their own directories"
   ],
   "metadata": {
    "collapsed": false
   },
   "id": "833f2258587fff46"
  },
  {
   "cell_type": "code",
   "execution_count": 6,
   "id": "e2d70ee2",
   "metadata": {
    "ExecuteTime": {
     "end_time": "2024-03-06T18:32:40.090551100Z",
     "start_time": "2024-03-06T18:20:36.707526400Z"
    }
   },
   "outputs": [
    {
     "name": "stdout",
     "output_type": "stream",
     "text": [
      "./Test_Words\n"
     ]
    }
   ],
   "source": [
    "# directory will be where the dictionary of image frames are pulled from\n",
    "directory = \"./Test_Words\"\n",
    "print(directory)\n",
    "# run all directories in data\n",
    "for subdirectory in os.listdir(directory):\n",
    "    new_dir = os.path.join('./Numpy_Files', f'{subdirectory}')\n",
    "    os.mkdir(new_dir)\n",
    "    frames = []\n",
    "    index = 1\n",
    "# run for all files in each subdirectory in data\n",
    "    for frame_set in os.listdir(os.path.join(directory,subdirectory)):\n",
    "        for file in os.listdir(os.path.join(directory, subdirectory, frame_set)):\n",
    "            # don't change this\n",
    "            mp_holistic = mp.solutions.holistic #holistic model\n",
    "            mp_drawing = mp.solutions.drawing_utils #drawing utility\n",
    "            cap = cv2.VideoCapture(os.path.join(directory,subdirectory,frame_set, file))\n",
    "            \n",
    "            with mp_holistic.Holistic(min_detection_confidence=0.5, min_tracking_confidence=0.5) as holistic:\n",
    "                while cap.isOpened():\n",
    "                    ref, frame = cap.read()\n",
    "                    if ref is False:\n",
    "                        break\n",
    "                # Make Detections\n",
    "                    image, results = mediapipe_detection(frame, holistic)\n",
    "                    rh = np.array([[res.x, res.y, res.z] for res in\n",
    "                                results.right_hand_landmarks.landmark]) if results.right_hand_landmarks else np.full([21, 3], 0)\n",
    "                    lh = np.array([[res.x, res.y, res.z] for res in\n",
    "                                results.left_hand_landmarks.landmark]) if results.left_hand_landmarks else np.full([21, 3], 0)\n",
    "                    face = np.array([[res.x, res.y, res.z] for res in\n",
    "                                    results.face_landmarks.landmark]) if results.face_landmarks else np.full([468,3], 0)\n",
    "                    pose = np.array([[res.x, res.y, res.z] for res in\n",
    "                                    results.pose_landmarks.landmark]) if results.pose_landmarks else np.full([33,4], 0)\n",
    "                # Draw Landmarks\n",
    "                    # Put all the landmarks into a 1d numpy array with the xyz coordinates for face, pose, rh and lh\n",
    "                    landmarks_split = [rh, lh, face, pose]\n",
    "                    frames.append(landmarks_split)\n",
    "                \n",
    "                    draw_landmarks(image, results)\n",
    "                    \n",
    "                    cv2.imshow(\"OpenCV Capture\", image)\n",
    "                    if cv2.waitKey(10) & 0xFF == ord('q'):\n",
    "                        break\n",
    "                        \n",
    "            cap.release()\n",
    "            cv2.destroyAllWindows()\n",
    "\n",
    "        # saves files by name to the set subdirectory in Numpy_Files\n",
    "        filename = f'{os.path.basename(frame_set)}'\n",
    "        file_data = np.array(frames, dtype=object)\n",
    "        np.save(os.path.join(f'./Numpy_Files/{subdirectory}', filename), file_data)\n",
    "    "
   ]
  },
  {
   "cell_type": "markdown",
   "source": [
    "## 2. Data Cleaning\n",
    "#### Note: Previously, data was cleaned by hand, but this is to automate that\n",
    "### 2.1. Image Color Detection"
   ],
   "metadata": {
    "collapsed": false
   },
   "id": "1520c8b5850f299f"
  },
  {
   "cell_type": "code",
   "outputs": [
    {
     "data": {
      "text/plain": "<Figure size 640x480 with 1 Axes>",
      "image/png": "[encoded data removed]"
     },
     "metadata": {},
     "output_type": "display_data"
    },
    {
     "name": "stdout",
     "output_type": "stream",
     "text": [
      "(76, 156, 122)\n"
     ]
    },
    {
     "data": {
      "text/plain": "<Figure size 640x480 with 1 Axes>",
      "image/png": "[encoded data removed]"
     },
     "metadata": {},
     "output_type": "display_data"
    },
    {
     "name": "stdout",
     "output_type": "stream",
     "text": [
      "[(76, 156, 122), (244, 164, 113), (32, 8, 11), (151, 87, 47), (156, 204, 148)]\n"
     ]
    }
   ],
   "source": [
    "from colorthief import ColorThief\n",
    "from matplotlib import pyplot as plt\n",
    "\n",
    "ct = ColorThief(\"./Test_Words/favorite/favorite2/2130410.jpg\")\n",
    "\n",
    "dominant_color = ct.get_color(quality=1) # color is stored as a tuple (R, G, B)\n",
    "plt.imshow([[dominant_color]])\n",
    "plt.show()\n",
    "print(dominant_color)\n",
    "\n",
    "palette = ct.get_palette(color_count=5) # palette is stored as a list of 5 colors\n",
    "plt.imshow([[palette[i] for i in range(5)]]) \n",
    "plt.show()\n",
    "print(palette)"
   ],
   "metadata": {
    "collapsed": false,
    "ExecuteTime": {
     "end_time": "2024-03-14T16:34:19.625071Z",
     "start_time": "2024-03-14T16:34:18.981094500Z"
    }
   },
   "id": "cc9d8284578219fd",
   "execution_count": 2
  },
  {
   "cell_type": "code",
   "outputs": [
    {
     "name": "stdout",
     "output_type": "stream",
     "text": [
      "(76, 156, 122)\n",
      "#4c9c7a\n",
      "(0.4291666666666667, 0.5128205128205128, 156)\n",
      "(0.4291666666666667, 116.0, -0.34782608695652173)\n",
      "(244, 164, 113)\n",
      "#f4a471\n",
      "(0.0648854961832061, 0.5368852459016393, 244)\n",
      "(0.0648854961832061, 178.5, -0.36901408450704226)\n",
      "(32, 8, 11)\n",
      "#20080b\n",
      "(0.9791666666666666, 0.75, 32)\n",
      "(0.9791666666666666, 20.0, -0.631578947368421)\n",
      "(151, 89, 44)\n",
      "#97592c\n",
      "(0.07009345794392524, 0.7086092715231788, 151)\n",
      "(0.07009345794392524, 97.5, -0.5544041450777202)\n",
      "(160, 204, 152)\n",
      "#a0cc98\n",
      "(0.3076923076923077, 0.2549019607843137, 204)\n",
      "(0.3076923076923077, 178.0, -0.14689265536723164)\n"
     ]
    }
   ],
   "source": [
    "import colorsys\n",
    "\n",
    "for color in palette:\n",
    "    print(color) # in RGB\n",
    "    print(f\"#{color[0]:02x}{color[1]:02x}{color[2]:02x}\")\n",
    "    print(colorsys.rgb_to_hsv(*color))\n",
    "    print(colorsys.rgb_to_hls(*color))"
   ],
   "metadata": {
    "collapsed": false,
    "ExecuteTime": {
     "end_time": "2024-03-12T21:12:27.735429Z",
     "start_time": "2024-03-12T21:12:27.731300Z"
    }
   },
   "id": "6e5e45a79f55b8ff",
   "execution_count": 11
  },
  {
   "cell_type": "markdown",
   "source": [
    "### 2.2. Image Color Sorting\n",
    "#### Method for sorting the RGB values first "
   ],
   "metadata": {
    "collapsed": false
   },
   "id": "d5a4d71be97eb6b"
  },
  {
   "cell_type": "code",
   "execution_count": null,
   "outputs": [],
   "source": [
    "import math\n",
    "\n",
    "def color_code(directory): # 'test' directory\n",
    "    color_list = [] # will store one of each dominant color\n",
    "    for image_set in os.listdir(directory): # any of the individual word directories\n",
    "        for image in os.listdir(os.path.join(directory,image_set)): # any of the images within the subdirectories\n",
    "            temp_color = image.get_color(quality=1)\n",
    "            for i in range(0,3):\n",
    "                if math.isclose(image.get_color(quality=1)[i], temp_color[i], 10.0):\n",
    "                    continue\n",
    "                else:\n",
    "                    if image.get_color(quality=1) not in color_list:\n",
    "                        color_list.append(image.get_color(quality=1))\n",
    "                    temp_color = image.get_color(quality=1)"
   ],
   "metadata": {
    "collapsed": false
   },
   "id": "db325cc45861998b"
  }
 ],
 "metadata": {
  "kernelspec": {
   "display_name": "Python 3 (ipykernel)",
   "language": "python",
   "name": "python3"
  },
  "language_info": {
   "codemirror_mode": {
    "name": "ipython",
    "version": 3
   },
   "file_extension": ".py",
   "mimetype": "text/x-python",
   "name": "python",
   "nbconvert_exporter": "python",
   "pygments_lexer": "ipython3",
   "version": "3.10.12"
  }
 },
 "nbformat": 4,
 "nbformat_minor": 5
}
