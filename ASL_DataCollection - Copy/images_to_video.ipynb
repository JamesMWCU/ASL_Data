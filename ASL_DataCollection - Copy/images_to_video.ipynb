{
 "cells": [
  {
   "cell_type": "code",
   "execution_count": 46,
   "id": "initial_id",
   "metadata": {
    "collapsed": true,
    "ExecuteTime": {
     "end_time": "2024-02-23T21:58:05.255740700Z",
     "start_time": "2024-02-23T21:58:05.250228500Z"
    }
   },
   "outputs": [],
   "source": [
    "import cv2\n",
    "import os"
   ]
  },
  {
   "cell_type": "markdown",
   "source": [
    "# Test for the 'fruit1' image set\n",
    "### 1) Universal function 'convert_video'"
   ],
   "metadata": {
    "collapsed": false
   },
   "id": "992edd5cfb0f248"
  },
  {
   "cell_type": "code",
   "execution_count": 47,
   "outputs": [],
   "source": [
    "def convert_video(image_folder):\n",
    "    \n",
    "        video_name = f\"{os.path.basename(image_folder)}.mp4\"\n",
    "        \n",
    "        images = [img for img in os.listdir(image_folder) if img.endswith(\".jpg\")]\n",
    "        frame = cv2.imread(os.path.join(image_folder, images[0]))\n",
    "        height, width, layers = frame.shape\n",
    "        \n",
    "        video = cv2.VideoWriter(video_name, 0, 24, (width,height))\n",
    "        \n",
    "        for image in images:\n",
    "            video.write(cv2.imread(os.path.join(image_folder, image)))\n",
    "        \n",
    "        cv2.destroyAllWindows()\n",
    "        video.release()\n"
   ],
   "metadata": {
    "collapsed": false,
    "ExecuteTime": {
     "end_time": "2024-02-23T21:58:07.007529500Z",
     "start_time": "2024-02-23T21:58:07.002617Z"
    }
   },
   "id": "26d81cfb9d29abcc"
  },
  {
   "cell_type": "markdown",
   "source": [
    "### 2) Function call on 'fruit1' directory"
   ],
   "metadata": {
    "collapsed": false
   },
   "id": "f12abc950d12d50f"
  },
  {
   "cell_type": "code",
   "execution_count": 48,
   "outputs": [],
   "source": [
    "convert_video('fruit1')"
   ],
   "metadata": {
    "collapsed": false,
    "ExecuteTime": {
     "end_time": "2024-02-23T21:58:09.008622100Z",
     "start_time": "2024-02-23T21:58:08.664175900Z"
    }
   },
   "id": "42ca6abe770557e2"
  },
  {
   "cell_type": "markdown",
   "source": [
    "# Test for looping through an entire directory of sub-directories"
   ],
   "metadata": {
    "collapsed": false
   },
   "id": "aee5f20119d1db94"
  },
  {
   "cell_type": "code",
   "execution_count": 51,
   "outputs": [],
   "source": [
    "def convert_directory(root_folder):\n",
    "        \n",
    "        for image_folder in os.listdir(root_folder):\n",
    "                if image_folder.endswith('.mp4'):\n",
    "                        break\n",
    "                convert_video(f\"{os.path.basename(image_folder)}\")\n",
    "                "
   ],
   "metadata": {
    "collapsed": false,
    "ExecuteTime": {
     "end_time": "2024-02-23T21:59:04.831256Z",
     "start_time": "2024-02-23T21:59:04.810252200Z"
    }
   },
   "id": "4ef7769fd2a63bf5"
  },
  {
   "cell_type": "code",
   "execution_count": 52,
   "outputs": [],
   "source": [
    "convert_directory('D:\\data\\[TEST] Collected')"
   ],
   "metadata": {
    "collapsed": false,
    "ExecuteTime": {
     "end_time": "2024-02-23T21:59:08.078158800Z",
     "start_time": "2024-02-23T21:59:05.864479700Z"
    }
   },
   "id": "5afc5e8ebd71c642"
  },
  {
   "cell_type": "code",
   "execution_count": null,
   "outputs": [],
   "source": [],
   "metadata": {
    "collapsed": false,
    "ExecuteTime": {
     "end_time": "2024-02-23T21:56:26.476495400Z",
     "start_time": "2024-02-23T21:56:26.474843700Z"
    }
   },
   "id": "8e1a4f12579427ae"
  }
 ],
 "metadata": {
  "kernelspec": {
   "display_name": "Python 3",
   "language": "python",
   "name": "python3"
  },
  "language_info": {
   "codemirror_mode": {
    "name": "ipython",
    "version": 2
   },
   "file_extension": ".py",
   "mimetype": "text/x-python",
   "name": "python",
   "nbconvert_exporter": "python",
   "pygments_lexer": "ipython2",
   "version": "2.7.6"
  }
 },
 "nbformat": 4,
 "nbformat_minor": 5
}
